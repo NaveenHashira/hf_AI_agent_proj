{
  "nbformat": 4,
  "nbformat_minor": 0,
  "metadata": {
    "colab": {
      "provenance": [],
      "authorship_tag": "ABX9TyO6hj766xBGRiGlQkWMRNYh",
      "include_colab_link": true
    },
    "kernelspec": {
      "name": "python3",
      "display_name": "Python 3"
    },
    "language_info": {
      "name": "python"
    }
  },
  "cells": [
    {
      "cell_type": "markdown",
      "metadata": {
        "id": "view-in-github",
        "colab_type": "text"
      },
      "source": [
        "<a href=\"https://colab.research.google.com/github/NaveenHashira/hf_AI_agent_proj/blob/main/hf_ai_agent.ipynb\" target=\"_parent\"><img src=\"https://colab.research.google.com/assets/colab-badge.svg\" alt=\"Open In Colab\"/></a>"
      ]
    },
    {
      "cell_type": "code",
      "execution_count": 2,
      "metadata": {
        "colab": {
          "base_uri": "https://localhost:8080/"
        },
        "id": "wm6HZBntfNuu",
        "outputId": "8c60659b-3113-4300-83b1-d9a3de5bc95a"
      },
      "outputs": [
        {
          "output_type": "stream",
          "name": "stdout",
          "text": [
            "  Preparing metadata (setup.py) ... \u001b[?25l\u001b[?25hdone\n",
            "  Preparing metadata (setup.py) ... \u001b[?25l\u001b[?25hdone\n",
            "\u001b[2K   \u001b[90m━━━━━━━━━━━━━━━━━━━━━━━━━━━━━━━━━━━━━━━━\u001b[0m \u001b[32m2.5/2.5 MB\u001b[0m \u001b[31m28.5 MB/s\u001b[0m eta \u001b[36m0:00:00\u001b[0m\n",
            "\u001b[2K   \u001b[90m━━━━━━━━━━━━━━━━━━━━━━━━━━━━━━━━━━━━━━━━\u001b[0m \u001b[32m81.3/81.3 kB\u001b[0m \u001b[31m3.9 MB/s\u001b[0m eta \u001b[36m0:00:00\u001b[0m\n",
            "\u001b[2K   \u001b[90m━━━━━━━━━━━━━━━━━━━━━━━━━━━━━━━━━━━━━━━━\u001b[0m \u001b[32m127.5/127.5 kB\u001b[0m \u001b[31m7.3 MB/s\u001b[0m eta \u001b[36m0:00:00\u001b[0m\n",
            "\u001b[2K   \u001b[90m━━━━━━━━━━━━━━━━━━━━━━━━━━━━━━━━━━━━━━━━\u001b[0m \u001b[32m44.4/44.4 kB\u001b[0m \u001b[31m1.9 MB/s\u001b[0m eta \u001b[36m0:00:00\u001b[0m\n",
            "\u001b[2K   \u001b[90m━━━━━━━━━━━━━━━━━━━━━━━━━━━━━━━━━━━━━━━━\u001b[0m \u001b[32m1.2/1.2 MB\u001b[0m \u001b[31m51.5 MB/s\u001b[0m eta \u001b[36m0:00:00\u001b[0m\n",
            "\u001b[2K   \u001b[90m━━━━━━━━━━━━━━━━━━━━━━━━━━━━━━━━━━━━━━━━\u001b[0m \u001b[32m50.9/50.9 kB\u001b[0m \u001b[31m3.0 MB/s\u001b[0m eta \u001b[36m0:00:00\u001b[0m\n",
            "\u001b[?25h  Building wheel for wikipedia (setup.py) ... \u001b[?25l\u001b[?25hdone\n",
            "  Building wheel for sgmllib3k (setup.py) ... \u001b[?25l\u001b[?25hdone\n"
          ]
        }
      ],
      "source": [
        "!pip install -Uq pydantic langgraph langchain-core langchain-community langchain-groq arxiv wikipedia tavily-python"
      ]
    },
    {
      "cell_type": "code",
      "source": [
        "# Importing necessary libraries for retrieving the API keys\n",
        "import os\n",
        "import openai\n",
        "import tavily\n",
        "from google.colab import userdata\n",
        "\n",
        "# Retrieve the secret and set as environment variables\n",
        "os.environ['GROK_API_KEY'] = userdata.get(\"GROK_API_KEY\")\n",
        "openai.api_key = os.getenv('GROK_API_KEY')\n",
        "\n",
        "os.environ['TAVILY_API_KEY'] = userdata.get(\"TAVILY_API_KEY\")\n",
        "tavily.api_key = os.getenv('TAVILY_API_KEY')"
      ],
      "metadata": {
        "id": "L9dUbit8fVeZ"
      },
      "execution_count": 4,
      "outputs": []
    },
    {
      "cell_type": "code",
      "source": [
        "# Creating tools for our agent\n",
        "from langchain_community.tools import ArxivQueryRun, WikipediaQueryRun\n",
        "from langchain_community.utilities import ArxivAPIWrapper, WikipediaAPIWrapper"
      ],
      "metadata": {
        "id": "__ZphNASs6ss"
      },
      "execution_count": 6,
      "outputs": []
    },
    {
      "cell_type": "code",
      "source": [
        "arxiv_api_wrapper = ArxivAPIWrapper(top_k_results=2, doc_content_chars_max=500)\n",
        "arxiv = ArxivQueryRun(api_wrapper=arxiv_api_wrapper, description=\"Query arxiv papers\")\n",
        "print(arxiv.name)\n",
        "print(arxiv.invoke(\"quantum computing\"))"
      ],
      "metadata": {
        "colab": {
          "base_uri": "https://localhost:8080/"
        },
        "id": "vD1nO0wPxjSa",
        "outputId": "50763476-46df-42ff-e0d8-57304e1862db"
      },
      "execution_count": 11,
      "outputs": [
        {
          "output_type": "stream",
          "name": "stdout",
          "text": [
            "arxiv\n",
            "Published: 2022-08-01\n",
            "Title: The Rise of Quantum Internet Computing\n",
            "Authors: Seng W. Loke\n",
            "Summary: This article highlights quantum Internet computing as referring to\n",
            "distributed quantum computing over the quantum Internet, analogous to\n",
            "(classical) Internet computing involving (classical) distributed computing over\n",
            "the (classical) Internet. Relevant to quantum Internet computing would be areas\n",
            "of study such as quantum protocols for distributed nodes using quantum\n",
            "information for computations, qua\n"
          ]
        }
      ]
    },
    {
      "cell_type": "code",
      "source": [
        "wiki_api_wrapper = WikipediaAPIWrapper(top_k_results=2, doc_content_chars_max=500)\n",
        "wiki = WikipediaQueryRun(api_wrapper=wiki_api_wrapper, description=\"Query wikipedia blogs\")\n",
        "print(wiki.name)\n",
        "print(wiki.invoke(\"quantum computing\"))"
      ],
      "metadata": {
        "colab": {
          "base_uri": "https://localhost:8080/"
        },
        "id": "LB-RSPy3vxsi",
        "outputId": "e7be7b26-7937-4725-8fe5-c7385601d6aa"
      },
      "execution_count": 12,
      "outputs": [
        {
          "output_type": "stream",
          "name": "stdout",
          "text": [
            "wikipedia\n",
            "Page: Quantum computing\n",
            "Summary: A quantum computer is a computer that exploits quantum mechanical phenomena. On small scales, physical matter exhibits properties of both particles and waves, and quantum computing takes advantage of this behavior using specialized hardware. Classical physics cannot explain the operation of these quantum devices, and a scalable quantum computer could perform some calculations exponentially faster than any modern \"classical\" computer. Theoretically a large-scale q\n"
          ]
        }
      ]
    },
    {
      "cell_type": "code",
      "source": [
        "from langchain_community.tools.tavily_search import TavilySearchResults\n",
        "tavily = TavilySearchResults()\n",
        "print(tavily.name)\n",
        "print(tavily.invoke(\"latest news in quantum computing\"))"
      ],
      "metadata": {
        "colab": {
          "base_uri": "https://localhost:8080/"
        },
        "id": "VY4En2fXxrWm",
        "outputId": "505bfe60-36ce-47fb-8c16-55962fc9005e"
      },
      "execution_count": 13,
      "outputs": [
        {
          "output_type": "stream",
          "name": "stdout",
          "text": [
            "tavily_search_results_json\n",
            "[{'title': 'Quantum Computers News - ScienceDaily', 'url': 'https://www.sciencedaily.com/news/computers_math/quantum_computers/', 'content': 'Quantum Computers News\\n\\nTop Headlines\\n\\nLatest Headlines\\n\\nEarlier Headlines\\n\\nMonday, April 7, 2025\\n\\nFriday, April 4, 2025\\n\\nThursday, April 3, 2025\\n\\nWednesday, April 2, 2025\\n\\nTuesday, April 1, 2025\\n\\nFriday, March 28, 2025\\n\\nThursday, March 27, 2025\\n\\nWednesday, March 26, 2025\\n\\nTuesday, March 25, 2025\\n\\nFriday, March 21, 2025\\n\\nWednesday, March 19, 2025\\n\\nMonday, March 17, 2025\\n\\nFriday, March 14, 2025\\n\\nThursday, March 13, 2025\\n\\nWednesday, March 12, 2025\\n\\nTuesday, March 11, 2025\\n\\nMonday, March 10, 2025 [...] Thursday, January 16, 2025\\n\\nTuesday, January 14, 2025\\n\\nMonday, January 13, 2025\\n\\nThursday, January 9, 2025\\n\\nWednesday, January 8, 2025\\n\\nMonday, January 6, 2025\\n\\nFriday, December 20, 2024\\n\\nThursday, December 19, 2024\\n\\nTuesday, December 17, 2024\\n\\nTuesday, December 10, 2024\\n\\nFriday, December 6, 2024\\n\\nWednesday, December 4, 2024\\n\\nMonday, December 2, 2024\\n\\nWednesday, November 27, 2024\\n\\nTuesday, November 26, 2024\\n\\nThursday, November 21, 2024\\n\\nTuesday, November 19, 2024\\n\\nSaturday, November 16, 2024 [...] Wednesday, March 5, 2025\\n\\nTuesday, March 4, 2025\\n\\nThursday, February 27, 2025\\n\\nWednesday, February 26, 2025\\n\\nTuesday, February 25, 2025\\n\\nThursday, February 20, 2025\\n\\nWednesday, February 19, 2025\\n\\nTuesday, February 18, 2025\\n\\nFriday, February 14, 2025\\n\\nTuesday, February 11, 2025\\n\\nMonday, February 10, 2025\\n\\nFriday, February 7, 2025\\n\\nWednesday, February 5, 2025\\n\\nWednesday, January 29, 2025\\n\\nTuesday, January 28, 2025\\n\\nMonday, January 27, 2025\\n\\nFriday, January 24, 2025\\n\\nThursday, January 23, 2025', 'score': 0.8458536}, {'title': 'Quantum Computing News, Quantum Articles, Quantum Industry', 'url': 'https://quantumzeitgeist.com/', 'content': 'Enhancing Secure Quantum Systems with Heisenberg-Limited Scaling and Noise Mitigation\\n\\nWelcome To Quantum Zeitgeist. The World Is Quantum\\n\\nSign up for our Quantum Computing newsletter to get the latest Quantum Computing News. Get the latest Quantum News Direct to your email box.\\n\\nQuantum Computing News\\n\\nQuantum Computing\\n\\nQuantum Computing\\n\\nTechnology\\n\\nAbout Us [...] Qoro Quantum and CESGA Collaborate on Scalable Quantum Computing in HPC Environments\\n\\nQuantum Research News\\n\\nQuantum Memory Achieves 94.6% Efficiency with Low Noise\\n\\nEfficient Entanglement Generation via Enhanced State-Carving Protocol for Quantum Computing\\n\\nQuantum-Assisted Optimization for High-Dimensional Regression\\n\\nQuantum Internet\\n\\nUK Researchers Achieve Milestone in Quantum Communication with First Long-Distance Ultra-Secure Network Demonstration. [...] Quantum Computing News\\n\\nQuantum Memory Achieves 94.6% Efficiency with Low Noise\\n\\nEfficient Entanglement Generation via Enhanced State-Carving Protocol for Quantum Computing\\n\\nQuantum-Assisted Optimization for High-Dimensional Regression\\n\\nNeural Networks Optimize Quantum Control for High-Fidelity Pulse Engineering\\n\\nMOTH Unveils First-Ever Music Track Created Using Quantum-Powered Generative AI\\n\\nCircuit Cutting in Quantum Computing: A Scalable Solution\\n\\nQuantum Features', 'score': 0.8145405}, {'title': 'Quantum Computing | Latest News, Photos & Videos | WIRED', 'url': 'https://www.wired.com/tag/quantum-computing/', 'content': 'quantum computing\\n\\nA New Quantum Algorithm Speeds Up Solving a Huge Class of Problems\\n\\nQuantum Computing Is Dead. Long Live Quantum Computing!\\n\\nThe Quantum Apocalypse Is Coming. Be Very Afraid\\n\\nMicrosoft’s New Majorana 1 Processor Could Transform Quantum Computing\\n\\nThe Incredible Power of Quantum Memory\\n\\nCryptographers Are Discovering New Rules for Quantum Encryption\\n\\nNever-Repeating Patterns of Tiles Can Safeguard Quantum Information\\n\\nApple’s iMessage Is Getting Future-Resistant Encryption [...] The Holy Grail of Quantum Computing Is Finally Here. Or Is It?\\n\\nThis Laser Can Help Verify the Source of a Diamond\\n\\nThe Quest to Use Quantum Mechanics to Pull Energy Out of Nothing\\n\\nHow Quantum Physicists ‘Flipped Time’ (and Didn’t)\\n\\nUS Technological Dominance Is Not What It Used to Be\\n\\nThe WIRED Guide to Quantum Computing\\n\\nQuantum Startups’ Stock Market Dreams Are Decohering\\n\\nQuantum Computing Has a Noise Problem\\n\\nIs Moore’s Law Really Dead?', 'score': 0.7880784}, {'title': 'Quantum Computing - latest research news and features - Phys.org', 'url': 'https://phys.org/tags/quantum+computing/', 'content': 'Science X Account\\n\\nClick here to sign in with\\n                  \\n\\n\\n                  or\\n\\nForget Password?\\n\\nLearn more\\n\\nNews on quantum computing\\n\\nSingle-photon technology powers 11-mile quantum communications network between two campuses\\n\\nResearchers at the University of Rochester and Rochester Institute of Technology recently connected their campuses with an experimental quantum communications network using two optical fibers. In a new paper published in ...\\n\\nOptics & Photonics\\n\\n16 hours ago\\n\\n0 [...] Although quantum computing is still in its infancy, experiments have been carried out in which quantum computational operations were executed on a very small number of qubits (quantum binary digits). Both practical and theoretical research continues with interest, and many national government and military funding agencies support quantum computing research to develop quantum computers for both civilian and national security purposes, such as cryptanalysis. [...] A team of Rice University researchers has developed a new way to control light interactions using a specially engineered structure called a 3D photonic-crystal cavity. Their work, published in the journal Nature Communications, ...\\n\\nOptics & Photonics\\n\\nApr 17, 2025\\n\\n0\\n\\n267\\n\\nQuantum computer', 'score': 0.7817479}, {'title': 'Quantum computing | Massachusetts Institute of Technology', 'url': 'https://news.mit.edu/topic/quantum-computing', 'content': 'Device enables direct communication among multiple quantum processors\\n\\nMIT researchers developed a photon-shuttling “interconnect” that can facilitate remote entanglement, a key step toward a practical quantum computer.\\n\\nMarch 21, 2025\\n\\nRead full story →\\n\\nResearchers establish new basis for quantum sensing and communication\\n\\nNew theoretical approach for generating quantum states could lead to improved accuracy and reliability of information and decision systems.\\n\\nMarch 13, 2025 [...] Modular, scalable hardware architecture for a quantum computer\\n\\nA new quantum-system-on-chip enables the efficient control of a large array of qubits, moving toward practical quantum computing.\\n\\nMay 29, 2024\\n\\nRead full story →\\n\\nPhysicists arrange atoms in extremely close proximity\\n\\nThe technique opens possibilities for exploring exotic states of matter and building new quantum materials.\\n\\nMay 2, 2024\\n\\nRead full story →\\n\\nMIT scientists tune the entanglement structure in an array of qubits [...] Suggestions or feedback?\\n\\nMIT News | Massachusetts Institute of Technology\\n\\nBrowse By\\n\\nTopics\\n\\nDepartments\\n\\nCenters, Labs, & Programs\\n\\nSchools\\n\\nBreadcrumb\\n\\nTopic\\n\\nQuantum computing\\n\\nDownload RSS feed: News Articles / In the Media / Audio\\n\\nMIT engineers advance toward a fault-tolerant quantum computer\\n\\nResearchers achieved a type of coupling between artificial atoms and photons that could enable readout and processing of quantum information in a few nanoseconds.\\n\\nApril 30, 2025\\n\\nRead full story →', 'score': 0.76279575}]\n"
          ]
        }
      ]
    },
    {
      "cell_type": "code",
      "source": [],
      "metadata": {
        "id": "XU3a0TK1yfzJ"
      },
      "execution_count": null,
      "outputs": []
    }
  ]
}